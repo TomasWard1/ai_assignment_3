{
 "cells": [
  {
   "cell_type": "markdown",
   "metadata": {},
   "source": [
    "## **Implementing and Training an LSTM Network**"
   ]
  },
  {
   "cell_type": "markdown",
   "metadata": {},
   "source": [
    "### Data Processing"
   ]
  },
  {
   "cell_type": "code",
   "execution_count": 73,
   "metadata": {},
   "outputs": [],
   "source": [
    "import json\n",
    "import pandas as pd\n",
    "from tensorflow.keras.preprocessing.text import Tokenizer\n",
    "from tensorflow.keras.preprocessing.sequence import pad_sequences\n",
    "from sklearn.model_selection import train_test_split\n",
    "from collections import Counter"
   ]
  },
  {
   "cell_type": "code",
   "execution_count": 74,
   "metadata": {},
   "outputs": [],
   "source": [
    "max_reviews = 50000  # Limit to 100k reviews\n",
    "\n",
    "data = []\n",
    "with open('../data/dataset.json', 'r') as f:  # Replace with the path to your dataset\n",
    "    for i, line in enumerate(f):\n",
    "        if i == max_reviews:\n",
    "            break\n",
    "        data.append(json.loads(line))\n",
    "\n",
    "# Convert to DataFrame for easier manipulation\n",
    "df = pd.DataFrame(data)"
   ]
  },
  {
   "cell_type": "code",
   "execution_count": 75,
   "metadata": {},
   "outputs": [],
   "source": [
    "# Combine sentences in `review_sentences` into a single string\n",
    "df['review_text'] = df['review_sentences'].apply(lambda x: \" \".join([sentence[1] for sentence in x]))"
   ]
  },
  {
   "cell_type": "code",
   "execution_count": 76,
   "metadata": {},
   "outputs": [
    {
     "name": "stdout",
     "output_type": "stream",
     "text": [
      "                            user_id   timestamp  \\\n",
      "0  8842281e1d1347389f2ab93d60773d4d  2017-08-30   \n",
      "1  8842281e1d1347389f2ab93d60773d4d  2017-03-22   \n",
      "2  8842281e1d1347389f2ab93d60773d4d  2017-03-20   \n",
      "3  8842281e1d1347389f2ab93d60773d4d  2016-11-09   \n",
      "4  8842281e1d1347389f2ab93d60773d4d  2016-04-25   \n",
      "\n",
      "                                    review_sentences  rating  has_spoiler  \\\n",
      "0  [[0, This is a special book.], [0, It started ...       5         True   \n",
      "1  [[0, Recommended by Don Katz.], [0, Avail for ...       3        False   \n",
      "2  [[0, A fun, fast paced science fiction thrille...       3         True   \n",
      "3  [[0, Recommended reading to understand what is...       0        False   \n",
      "4  [[0, I really enjoyed this book, and there is ...       4         True   \n",
      "\n",
      "    book_id                         review_id  \\\n",
      "0  18245960  dfdbb7b0eb5a7e4c26d59a937e2e5feb   \n",
      "1     16981  a5d2c3628987712d0e05c4f90798eb67   \n",
      "2  28684704  2ede853b14dc4583f96cf5d120af636f   \n",
      "3  27161156  ced5675e55cd9d38a524743f5c40996e   \n",
      "4  25884323  332732725863131279a8e345b63ac33e   \n",
      "\n",
      "                                         review_text  \n",
      "0  This is a special book. It started slow for ab...  \n",
      "1  Recommended by Don Katz. Avail for free in Dec...  \n",
      "2  A fun, fast paced science fiction thriller. I ...  \n",
      "3  Recommended reading to understand what is goin...  \n",
      "4  I really enjoyed this book, and there is a lot...  \n"
     ]
    }
   ],
   "source": [
    "print(df.head())"
   ]
  },
  {
   "cell_type": "code",
   "execution_count": 77,
   "metadata": {},
   "outputs": [],
   "source": [
    "# Extract text and labels\n",
    "texts = df['review_text'].values\n",
    "labels = df['has_spoiler'].astype(int).values"
   ]
  },
  {
   "cell_type": "code",
   "execution_count": 78,
   "metadata": {},
   "outputs": [
    {
     "name": "stdout",
     "output_type": "stream",
     "text": [
      "Class 1 (Has spoiler: True): 3427 reviews (6.85%)\n",
      "Class 0 (Has spoiler: False): 46573 reviews (93.15%)\n",
      "\n",
      "Class counts:\n",
      "Counter({np.int64(0): 46573, np.int64(1): 3427})\n"
     ]
    }
   ],
   "source": [
    "# Check class imbalance\n",
    "class_counts = Counter(labels)\n",
    "total_reviews = sum(class_counts.values())\n",
    "for label, count in class_counts.items():\n",
    "    percentage = (count / total_reviews) * 100\n",
    "    print(f\"Class {label} (Has spoiler: {bool(label)}): {count} reviews ({percentage:.2f}%)\")\n",
    "\n",
    "# Output imbalance\n",
    "print(\"\\nClass counts:\")\n",
    "print(class_counts)"
   ]
  },
  {
   "cell_type": "code",
   "execution_count": 79,
   "metadata": {},
   "outputs": [
    {
     "name": "stdout",
     "output_type": "stream",
     "text": [
      "This is a special book. It started slow for about the first third, then in the middle third it started to get interesting, then the last third blew my mind. This is what I love about good science fiction - it pushes your thinking about where things can go. It is a 2015 Hugo winner, and translated from its original Chinese, which made it interesting in just a different way from most things I've read. For instance the intermixing of Chinese revolutionary history - how they kept accusing people of being \"reactionaries\", etc. It is a book about science, and aliens. The science described in the book is impressive - its a book grounded in physics and pretty accurate as far as I could tell. Though when it got to folding protons into 8 dimensions I think he was just making stuff up - interesting to think about though. But what would happen if our SETI stations received a message - if we found someone was out there - and the person monitoring and answering the signal on our side was disillusioned? That part of the book was a bit dark - I would like to think human reaction to discovering alien civilization that is hostile would be more like Enders Game where we would band together. I did like how the book unveiled the Trisolaran culture through the game. It was a smart way to build empathy with them and also understand what they've gone through across so many centuries. And who know a 3 body problem was an unsolvable math problem? But I still don't get who made the game - maybe that will come in the next book. I loved this quote: \"In the long history of scientific progress, how many protons have been smashed apart in accelerators by physicists? How many neutrons and electrons? Probably no fewer than a hundred million. Every collision was probably the end of the civilizations and intelligences in a microcosmos. In fact, even in nature, the destruction of universes must be happening at every second--for example, through the decay of neutrons. Also, a high-energy cosmic ray entering the atmosphere may destroy thousands of such miniature universes....\"\n"
     ]
    }
   ],
   "source": [
    "# Tokenize\n",
    "tokenizer = Tokenizer(num_words=10000)  # Limit vocabulary to top 10k words\n",
    "tokenizer.fit_on_texts(texts)\n",
    "\n",
    "print(texts[0])"
   ]
  },
  {
   "cell_type": "code",
   "execution_count": 80,
   "metadata": {},
   "outputs": [
    {
     "name": "stdout",
     "output_type": "stream",
     "text": [
      "[12, 8, 5, 730, 13, 7, 266, 395, 15, 36, 1, 69, 519, 98, 10, 1, 503, 519, 7, 266, 4, 68, 156, 98, 1, 192, 519, 2383, 29, 305, 12, 8, 41, 3, 39, 36, 76, 984, 557, 7, 3413, 160, 411, 36, 126, 108, 77, 139, 7, 8, 5, 2027, 7226, 3078, 2, 6668, 45, 228, 551, 3369, 99, 127, 7, 156, 10, 32, 5, 193, 81, 45, 128, 108, 172, 28, 15, 2991, 1, 6, 3369, 7493, 516, 49, 43, 323, 115, 6, 116, 656, 7, 8, 5, 13, 36, 984, 2, 2636, 1, 984, 1101, 10, 1, 13, 8, 2663, 228, 5, 13, 4715, 10, 7324, 2, 184, 2603, 20, 281, 20, 3, 105, 315, 112, 51, 7, 143, 4, 89, 1560, 7227, 3, 86, 24, 11, 32, 410, 469, 48, 156, 4, 86, 36, 112, 14, 41, 62, 335, 57, 294, 860, 5, 1450, 57, 90, 164, 253, 11, 46, 44, 2, 1, 256, 2, 7861, 1, 25, 294, 368, 11, 9, 171, 6, 1, 13, 11, 5, 124, 329, 3, 62, 30, 4, 86, 455, 1714, 4, 2664, 1743, 5057, 9, 8, 8519, 62, 26, 40, 30, 739, 126, 90, 62, 1519, 180, 3, 83, 30, 49, 1, 13, 1, 1167, 131, 1, 739, 7, 11, 5, 696, 81, 4, 998, 4483, 16, 75, 2, 80, 277, 41, 1598, 668, 131, 677, 18, 140, 4957, 2, 55, 78, 5, 215, 741, 433, 11, 47, 4515, 433, 14, 3, 100, 84, 68, 55, 127, 1, 739, 230, 9, 67, 199, 10, 1, 158, 13, 3, 87, 12, 1734, 10, 1, 202, 516, 6, 3518, 2637, 49, 140, 27, 95, 747, 10, 60, 49, 140, 2, 280, 85, 5939, 94, 5, 1479, 2516, 182, 11, 280, 1, 102, 6, 1, 2, 10, 5, 10, 262, 70, 10, 1122, 1, 3309, 6, 6593, 355, 26, 658, 42, 182, 231, 15, 925, 131, 1, 6, 80, 5, 336, 3271, 3298, 5883, 1, 2575, 279, 2115, 4784, 6, 204, 6593]\n",
      "[  32  410  469   48  156    4   86   36  112   14   41   62  335   57\n",
      "  294  860    5 1450   57   90  164  253   11   46   44    2    1  256\n",
      "    2 7861    1   25  294  368   11    9  171    6    1   13   11    5\n",
      "  124  329    3   62   30    4   86  455 1714    4 2664 1743 5057    9\n",
      "    8 8519   62   26   40   30  739  126   90   62 1519  180    3   83\n",
      "   30   49    1   13    1 1167  131    1  739    7   11    5  696   81\n",
      "    4  998 4483   16   75    2   80  277   41 1598  668  131  677   18\n",
      "  140 4957    2   55   78    5  215  741  433   11   47 4515  433   14\n",
      "    3  100   84   68   55  127    1  739  230    9   67  199   10    1\n",
      "  158   13    3   87   12 1734   10    1  202  516    6 3518 2637   49\n",
      "  140   27   95  747   10   60   49  140    2  280   85 5939   94    5\n",
      " 1479 2516  182   11  280    1  102    6    1    2   10    5   10  262\n",
      "   70   10 1122    1 3309    6 6593  355   26  658   42  182  231   15\n",
      "  925  131    1    6   80    5  336 3271 3298 5883    1 2575  279 2115\n",
      " 4784    6  204 6593]\n"
     ]
    }
   ],
   "source": [
    "# Padding\n",
    "sequences = tokenizer.texts_to_sequences(texts)\n",
    "padded_sequences = pad_sequences(sequences, maxlen=200)\n",
    "\n",
    "print(sequences[0])\n",
    "print(padded_sequences[0])"
   ]
  },
  {
   "cell_type": "code",
   "execution_count": 81,
   "metadata": {},
   "outputs": [],
   "source": [
    "# Split into training and testing sets\n",
    "X_train, X_test, y_train, y_test = train_test_split(padded_sequences, labels, test_size=0.2, random_state=42)"
   ]
  },
  {
   "cell_type": "markdown",
   "metadata": {},
   "source": [
    "### Model Creation"
   ]
  },
  {
   "cell_type": "code",
   "execution_count": 82,
   "metadata": {},
   "outputs": [],
   "source": [
    "from tensorflow.keras.models import Sequential\n",
    "from tensorflow.keras.layers import Embedding, LSTM, Dense, Dropout, Bidirectional, GlobalAveragePooling1D\n",
    "from tensorflow.keras.optimizers import Adam\n",
    "from tensorflow.keras.callbacks import EarlyStopping"
   ]
  },
  {
   "cell_type": "code",
   "execution_count": 83,
   "metadata": {},
   "outputs": [
    {
     "name": "stdout",
     "output_type": "stream",
     "text": [
      "79762\n"
     ]
    }
   ],
   "source": [
    "word_index = tokenizer.word_index    # get the word index\n",
    "total_words = len(word_index) + 1\n",
    "\n",
    "print(total_words)"
   ]
  },
  {
   "cell_type": "code",
   "execution_count": 84,
   "metadata": {},
   "outputs": [],
   "source": [
    "def build_lstm_model():\n",
    "    model = Sequential()\n",
    "    model.add(Embedding(total_words, 64))\n",
    "    model.add(LSTM(32))\n",
    "    model.add(Dropout(0.3))\n",
    "    model.add(Dense(1, activation='sigmoid'))\n",
    "   \n",
    "    optimizer = Adam(learning_rate=0.001) \n",
    "    model.compile(optimizer=optimizer, loss='binary_crossentropy', metrics=['accuracy'])\n",
    "    \n",
    "    return model"
   ]
  },
  {
   "cell_type": "code",
   "execution_count": 85,
   "metadata": {},
   "outputs": [],
   "source": [
    "import matplotlib.pyplot as plt\n",
    "from IPython.display import clear_output\n",
    "import keras\n",
    "\n",
    "class PlotLosses(keras.callbacks.Callback):\n",
    "    def on_train_begin(self, logs={}):\n",
    "        self.i = 0\n",
    "        self.x = []\n",
    "        self.losses = []\n",
    "        self.val_losses = []\n",
    "        self.accuracy = []\n",
    "        self.val_accuracy = []\n",
    "\n",
    "        self.fig = plt.figure(figsize=(8, 4))  # Smaller figure size\n",
    "\n",
    "        self.logs = []\n",
    "\n",
    "    def on_epoch_end(self, epoch, logs={}):\n",
    "        self.logs.append(logs)\n",
    "        self.x.append(self.i)\n",
    "        self.losses.append(logs.get(\"loss\"))\n",
    "        self.val_losses.append(logs.get(\"val_loss\"))\n",
    "        self.accuracy.append(logs.get(\"accuracy\"))\n",
    "        self.val_accuracy.append(logs.get(\"val_accuracy\"))\n",
    "        self.i += 1\n",
    "\n",
    "        clear_output(wait=True)\n",
    "        \n",
    "        # Plot losses\n",
    "        plt.figure(figsize=(8, 4))  # Smaller figure size\n",
    "        \n",
    "        # Subplot 1: Loss\n",
    "        plt.subplot(1, 2, 1)\n",
    "        plt.plot(self.x, self.losses, label=\"Train Loss\")\n",
    "        plt.plot(self.x, self.val_losses, label=\"Validation Loss\")\n",
    "        plt.title(\"Loss\")\n",
    "        plt.xlabel(\"Epochs\")\n",
    "        plt.ylabel(\"Loss\")\n",
    "        plt.legend()\n",
    "        \n",
    "        # Subplot 2: Accuracy\n",
    "        plt.subplot(1, 2, 2)\n",
    "        plt.plot(self.x, self.accuracy, label=\"Train Accuracy\")\n",
    "        plt.plot(self.x, self.val_accuracy, label=\"Validation Accuracy\")\n",
    "        plt.title(\"Accuracy\")\n",
    "        plt.xlabel(\"Epochs\")\n",
    "        plt.ylabel(\"Accuracy\")\n",
    "        plt.legend()\n",
    "        \n",
    "        plt.tight_layout()\n",
    "        plt.show()"
   ]
  },
  {
   "cell_type": "code",
   "execution_count": 86,
   "metadata": {},
   "outputs": [],
   "source": [
    "from sklearn.utils import class_weight\n",
    "import numpy as np\n",
    "\n",
    "# Assuming y_train contains your target labels\n",
    "class_weights = class_weight.compute_class_weight('balanced', classes=np.unique(y_train), y=y_train)\n",
    "\n",
    "# Convert the class weights into a dictionary\n",
    "class_weight_dict = {i: class_weights[i] for i in range(len(class_weights))}"
   ]
  },
  {
   "cell_type": "code",
   "execution_count": 87,
   "metadata": {},
   "outputs": [
    {
     "data": {
      "image/png": "[encoded data removed]",
      "text/plain": [
       "<Figure size 800x400 with 2 Axes>"
      ]
     },
     "metadata": {},
     "output_type": "display_data"
    },
    {
     "name": "stdout",
     "output_type": "stream",
     "text": [
      "\u001b[1m438/438\u001b[0m \u001b[32m━━━━━━━━━━━━━━━━━━━━\u001b[0m\u001b[37m\u001b[0m \u001b[1m17s\u001b[0m 39ms/step - accuracy: 0.8240 - loss: 0.3030 - val_accuracy: 0.8471 - val_loss: 0.4276\n",
      "Epoch 6: early stopping\n",
      "Restoring model weights from the end of the best epoch: 3.\n"
     ]
    }
   ],
   "source": [
    "plot_losses = PlotLosses()\n",
    "early_stopping = EarlyStopping(\n",
    "    monitor='val_loss',\n",
    "    patience=3, \n",
    "    restore_best_weights=True,\n",
    "    verbose=1\n",
    ")\n",
    "\n",
    "model = build_lstm_model()\n",
    "\n",
    "history = model.fit(\n",
    "    X_train, y_train,\n",
    "    validation_split=0.3,\n",
    "    epochs=10,\n",
    "    batch_size=64,\n",
    "    verbose=1,\n",
    "    class_weight=class_weight_dict,\n",
    "    callbacks=[plot_losses,early_stopping]\n",
    ")"
   ]
  },
  {
   "cell_type": "code",
   "execution_count": 88,
   "metadata": {},
   "outputs": [
    {
     "name": "stdout",
     "output_type": "stream",
     "text": [
      "\u001b[1m313/313\u001b[0m \u001b[32m━━━━━━━━━━━━━━━━━━━━\u001b[0m\u001b[37m\u001b[0m \u001b[1m2s\u001b[0m 5ms/step\n",
      "Accuracy: 0.80\n",
      "Precision: 0.17\n",
      "Recall: 0.50\n",
      "F1-score: 0.26\n"
     ]
    }
   ],
   "source": [
    "from sklearn.metrics import accuracy_score, precision_score, recall_score, f1_score\n",
    "\n",
    "# Make predictions\n",
    "y_pred = (model.predict(X_test) > 0.5).astype(\"int32\")\n",
    "\n",
    "# Evaluate\n",
    "accuracy = accuracy_score(y_test, y_pred)\n",
    "precision = precision_score(y_test, y_pred)\n",
    "recall = recall_score(y_test, y_pred)\n",
    "f1 = f1_score(y_test, y_pred)\n",
    "\n",
    "print(f\"Accuracy: {accuracy:.2f}\")\n",
    "print(f\"Precision: {precision:.2f}\")\n",
    "print(f\"Recall: {recall:.2f}\")\n",
    "print(f\"F1-score: {f1:.2f}\")"
   ]
  },
  {
   "cell_type": "markdown",
   "metadata": {},
   "source": [
    "# **GRU Model**"
   ]
  },
  {
   "cell_type": "code",
   "execution_count": 89,
   "metadata": {},
   "outputs": [],
   "source": [
    "from tensorflow.keras.layers import GRU"
   ]
  },
  {
   "cell_type": "code",
   "execution_count": 90,
   "metadata": {},
   "outputs": [],
   "source": [
    "def build_gru_model():\n",
    "    model = Sequential()\n",
    "    model.add(Embedding(total_words, 64))\n",
    "    model.add(GRU(32))\n",
    "    model.add(Dropout(0.3))\n",
    "    model.add(Dense(1, activation='sigmoid'))\n",
    "   \n",
    "    optimizer = Adam(learning_rate=0.001) \n",
    "    model.compile(optimizer=optimizer, loss='binary_crossentropy', metrics=['accuracy'])\n",
    "    \n",
    "    return model"
   ]
  },
  {
   "cell_type": "code",
   "execution_count": 91,
   "metadata": {},
   "outputs": [
    {
     "data": {
      "image/png": "[encoded data removed]",
      "text/plain": [
       "<Figure size 800x400 with 2 Axes>"
      ]
     },
     "metadata": {},
     "output_type": "display_data"
    },
    {
     "name": "stdout",
     "output_type": "stream",
     "text": [
      "\u001b[1m438/438\u001b[0m \u001b[32m━━━━━━━━━━━━━━━━━━━━\u001b[0m\u001b[37m\u001b[0m \u001b[1m18s\u001b[0m 41ms/step - accuracy: 0.9597 - loss: 0.0921 - val_accuracy: 0.8830 - val_loss: 0.4366\n",
      "Epoch 7: early stopping\n",
      "Restoring model weights from the end of the best epoch: 4.\n"
     ]
    }
   ],
   "source": [
    "plot_losses = PlotLosses()\n",
    "early_stopping = EarlyStopping(\n",
    "    monitor='val_loss',\n",
    "    patience=3, \n",
    "    restore_best_weights=True,\n",
    "    verbose=1\n",
    ")\n",
    "\n",
    "gru_model = build_gru_model()\n",
    "\n",
    "history = gru_model.fit(\n",
    "    X_train, y_train,\n",
    "    validation_split=0.3,\n",
    "    epochs=10,\n",
    "    batch_size=64,\n",
    "    verbose=1,\n",
    "    class_weight=class_weight_dict,\n",
    "    callbacks=[plot_losses,early_stopping]\n",
    ")"
   ]
  },
  {
   "cell_type": "code",
   "execution_count": 92,
   "metadata": {},
   "outputs": [
    {
     "name": "stdout",
     "output_type": "stream",
     "text": [
      "\u001b[1m313/313\u001b[0m \u001b[32m━━━━━━━━━━━━━━━━━━━━\u001b[0m\u001b[37m\u001b[0m \u001b[1m2s\u001b[0m 6ms/step\n",
      "Accuracy: 0.86\n",
      "Precision: 0.18\n",
      "Recall: 0.29\n",
      "F1-score: 0.22\n"
     ]
    }
   ],
   "source": [
    "# Make predictions\n",
    "y_pred = (gru_model.predict(X_test) > 0.5).astype(\"int32\")\n",
    "\n",
    "# Evaluate\n",
    "accuracy_gru = accuracy_score(y_test, y_pred)\n",
    "precision_gru = precision_score(y_test, y_pred)\n",
    "recall_gru = recall_score(y_test, y_pred)\n",
    "f1_gru = f1_score(y_test, y_pred)\n",
    "\n",
    "print(f\"Accuracy: {accuracy_gru:.2f}\")\n",
    "print(f\"Precision: {precision_gru:.2f}\")\n",
    "print(f\"Recall: {recall_gru:.2f}\")\n",
    "print(f\"F1-score: {f1_gru:.2f}\")"
   ]
  },
  {
   "cell_type": "markdown",
   "metadata": {},
   "source": [
    "### **Model Comparison: GRU vs LSTM**\n",
    "It is clear that the GRU model reduces the time complexity of model training whilst still maintaining presision. We can observe that accuracy also stayed relatively the same in comparison to the LSTM model.\n",
    "\n",
    "The pros of the GRU model is the simplicity of the cell structure but maintaining the ability to forget and selectively remember certain parts of a sequence.\n",
    "\n",
    "The pros of a LSTM model is the ability to handle and outperform GRU on more complex tasks which require increased granularity."
   ]
  },
  {
   "cell_type": "markdown",
   "metadata": {},
   "source": [
    "## Random Review Sampling and Prediction"
   ]
  },
  {
   "cell_type": "code",
   "execution_count": 93,
   "metadata": {
    "vscode": {
     "languageId": "ruby"
    }
   },
   "outputs": [
    {
     "name": "stdout",
     "output_type": "stream",
     "text": [
      "\u001b[1m1/1\u001b[0m \u001b[32m━━━━━━━━━━━━━━━━━━━━\u001b[0m\u001b[37m\u001b[0m \u001b[1m0s\u001b[0m 10ms/step\n",
      "\u001b[1m1/1\u001b[0m \u001b[32m━━━━━━━━━━━━━━━━━━━━\u001b[0m\u001b[37m\u001b[0m \u001b[1m0s\u001b[0m 9ms/step\n",
      "I've had this one on my list for a while and I am really glad I finally read it. I came home from the swim meet on Saturday just wrecked from the heat. I decided to sit on the couch near the AC vent for a bit and cool off. I picked up The Buddha in the Attic and didn't put it down again until I finished it. There may have been a teensy nap in there, but I think I read it in about 2 hours. In one of the most poignant histories I have ever read, Julie Otsuka uses the voices of all of the Japanese picture brides at once to tell their story. It was powerful. Telling about the women who came as picture brides to a place where nothing was as they expected. Telling how they worked to make a life for their children in a new land. Telling how that life was taken away unexpectedly by a war. Telling it from the point of view of hundreds of women. Unputdownable. Highly recommended. On the boat we were mostly virgins. We had long black hair and flat wide feet and we were not very tall. Some of us had eaten nothing but rice gruel as young girls and had slightly bowed legs, and some of us were only fourteen years old and were still young girls ourselves. Women are weak, but Mothers are strong.\n",
      "Actual Label: False\n",
      "LSTM Prediction: 0\n",
      "GRU Prediction: 0\n",
      "LSTM Prediction: Correct\n",
      "GRU Prediction: Correct\n"
     ]
    }
   ],
   "source": [
    "import random\n",
    "\n",
    "# Sample a random review\n",
    "random_index = random.randint(0, len(df) - 1)\n",
    "random_review = df.iloc[random_index]['review_text']\n",
    "random_label = df.iloc[random_index]['has_spoiler']\n",
    "\n",
    "# Preprocess the review\n",
    "random_sequence = tokenizer.texts_to_sequences([random_review])\n",
    "random_padded_sequence = pad_sequences(random_sequence, maxlen=200)\n",
    "\n",
    "# Predict with both models\n",
    "lstm_prediction = (model.predict(random_padded_sequence) > 0.5).astype(\"int32\")[0][0]\n",
    "gru_prediction = (gru_model.predict(random_padded_sequence) > 0.5).astype(\"int32\")[0][0]\n",
    "\n",
    "print(random_review)\n",
    "print(f\"Actual Label: {random_label}\")\n",
    "print(f\"LSTM Prediction: {lstm_prediction}\")\n",
    "print(f\"GRU Prediction: {gru_prediction}\")\n",
    "\n",
    "# Print if the predictions are correct or incorrect\n",
    "print(f\"LSTM Prediction: {'Correct' if lstm_prediction == random_label else 'Incorrect'}\")\n",
    "print(f\"GRU Prediction: {'Correct' if gru_prediction == random_label else 'Incorrect'}\")"
   ]
  },
  {
   "cell_type": "markdown",
   "metadata": {},
   "source": [
    "## Optimization Algorithm Comparison"
   ]
  },
  {
   "cell_type": "code",
   "execution_count": 94,
   "metadata": {},
   "outputs": [],
   "source": [
    "import time\n",
    "from tensorflow.keras.models import Sequential\n",
    "from tensorflow.keras.layers import Embedding, GRU, Dropout, Dense\n",
    "from tensorflow.keras.optimizers import SGD, Adam, RMSprop\n",
    "import numpy as np"
   ]
  },
  {
   "cell_type": "code",
   "execution_count": 95,
   "metadata": {},
   "outputs": [],
   "source": [
    "optimizers = {\n",
    "    \"SGD\": SGD(learning_rate=0.01),\n",
    "    \"SGD with Momentum\": SGD(learning_rate=0.01, momentum=0.9),\n",
    "    \"RMSprop\": RMSprop(learning_rate=0.001),\n",
    "    \"Adam\": Adam(learning_rate=0.001)\n",
    "}"
   ]
  },
  {
   "cell_type": "code",
   "execution_count": 96,
   "metadata": {},
   "outputs": [],
   "source": [
    "def build_gru_model(optimizer):\n",
    "\n",
    "    model = Sequential()\n",
    "    model.add(Embedding(total_words, 64))\n",
    "    model.add(GRU(32))\n",
    "    model.add(Dropout(0.3))\n",
    "    model.add(Dense(1, activation='sigmoid'))\n",
    "\n",
    "    model.compile(optimizer=optimizer, loss='binary_crossentropy', metrics=['accuracy'])\n",
    "    \n",
    "    return model"
   ]
  },
  {
   "cell_type": "code",
   "execution_count": 97,
   "metadata": {},
   "outputs": [
    {
     "name": "stdout",
     "output_type": "stream",
     "text": [
      "Training with SGD...\n",
      "Training with SGD with Momentum...\n",
      "Training with RMSprop...\n",
      "Training with Adam...\n"
     ]
    },
    {
     "data": {
      "text/html": [
       "<div>\n",
       "<style scoped>\n",
       "    .dataframe tbody tr th:only-of-type {\n",
       "        vertical-align: middle;\n",
       "    }\n",
       "\n",
       "    .dataframe tbody tr th {\n",
       "        vertical-align: top;\n",
       "    }\n",
       "\n",
       "    .dataframe thead th {\n",
       "        text-align: right;\n",
       "    }\n",
       "</style>\n",
       "<table border=\"1\" class=\"dataframe\">\n",
       "  <thead>\n",
       "    <tr style=\"text-align: right;\">\n",
       "      <th></th>\n",
       "      <th>training_time</th>\n",
       "      <th>final_accuracy</th>\n",
       "      <th>final_loss</th>\n",
       "      <th>epochs</th>\n",
       "    </tr>\n",
       "  </thead>\n",
       "  <tbody>\n",
       "    <tr>\n",
       "      <th>SGD</th>\n",
       "      <td>187.579661</td>\n",
       "      <td>0.931425</td>\n",
       "      <td>0.252627</td>\n",
       "      <td>10.0</td>\n",
       "    </tr>\n",
       "    <tr>\n",
       "      <th>SGD with Momentum</th>\n",
       "      <td>190.500591</td>\n",
       "      <td>0.931425</td>\n",
       "      <td>0.247347</td>\n",
       "      <td>10.0</td>\n",
       "    </tr>\n",
       "    <tr>\n",
       "      <th>RMSprop</th>\n",
       "      <td>221.343723</td>\n",
       "      <td>0.950175</td>\n",
       "      <td>0.145569</td>\n",
       "      <td>10.0</td>\n",
       "    </tr>\n",
       "    <tr>\n",
       "      <th>Adam</th>\n",
       "      <td>213.525806</td>\n",
       "      <td>0.996100</td>\n",
       "      <td>0.014861</td>\n",
       "      <td>10.0</td>\n",
       "    </tr>\n",
       "  </tbody>\n",
       "</table>\n",
       "</div>"
      ],
      "text/plain": [
       "                   training_time  final_accuracy  final_loss  epochs\n",
       "SGD                   187.579661        0.931425    0.252627    10.0\n",
       "SGD with Momentum     190.500591        0.931425    0.247347    10.0\n",
       "RMSprop               221.343723        0.950175    0.145569    10.0\n",
       "Adam                  213.525806        0.996100    0.014861    10.0"
      ]
     },
     "execution_count": 97,
     "metadata": {},
     "output_type": "execute_result"
    }
   ],
   "source": [
    "results = {}\n",
    "\n",
    "for optimizer_name, optimizer in optimizers.items():\n",
    "    print(f\"Training with {optimizer_name}...\")\n",
    "    \n",
    "    model = build_gru_model(optimizer)\n",
    "    \n",
    "    start_time = time.time()\n",
    "    \n",
    "    history = model.fit(X_train, y_train, epochs=10, batch_size=64, validation_data=(X_test, y_test), verbose=0)\n",
    "    \n",
    "    training_time = time.time() - start_time\n",
    "    \n",
    "    final_accuracy = history.history['accuracy'][-1]\n",
    "    final_loss = history.history['loss'][-1]\n",
    "    \n",
    "    # Store results\n",
    "    results[optimizer_name] = {\n",
    "        'training_time': training_time,\n",
    "        'final_accuracy': final_accuracy,\n",
    "        'final_loss': final_loss,\n",
    "        'epochs': len(history.history['loss']),\n",
    "    }\n",
    "\n",
    "# Display results in a table\n",
    "import pandas as pd\n",
    "\n",
    "results_df = pd.DataFrame(results).T\n",
    "results_df = results_df[['training_time', 'final_accuracy', 'final_loss', 'epochs']]\n",
    "results_df"
   ]
  },
  {
   "cell_type": "markdown",
   "metadata": {},
   "source": [
    "The best accuracy was achieved with Adam yet it was one of the slowest to train. However, the final loss is notably lower than other losses. We could say that the trade off between training time and accuracy makes sense in this case, because 99% vs 93% is a big difference, especially if applied to real world scenarios."
   ]
  }
 ],
 "metadata": {
  "kernelspec": {
   "display_name": "deep-learning",
   "language": "python",
   "name": "python3"
  },
  "language_info": {
   "codemirror_mode": {
    "name": "ipython",
    "version": 3
   },
   "file_extension": ".py",
   "mimetype": "text/x-python",
   "name": "python",
   "nbconvert_exporter": "python",
   "pygments_lexer": "ipython3",
   "version": "3.12.7"
  }
 },
 "nbformat": 4,
 "nbformat_minor": 2
}
