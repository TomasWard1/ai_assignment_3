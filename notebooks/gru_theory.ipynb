{
 "cells": [
  {
   "cell_type": "markdown",
   "metadata": {},
   "source": [
    "## **Exploring the GRU Architecture**\n",
    "Exploring the theoretical foundations of the Gated Recurrent Unit (GRU) \n",
    "and understanding how it differs from the LSTM architecture"
   ]
  },
  {
   "cell_type": "markdown",
   "metadata": {},
   "source": [
    "| Feature               | LSTM (Long Short-Term Memory)                       | GRU (Gated Recurrent Unit)                      |\n",
    "|-----------------------|----------------------------------------------------|------------------------------------------------|\n",
    "| **Number of Gates**    | 3 gates: Input, Forget, Output                     | 2 gates: Reset, Update                         |\n",
    "| **Complexity**         | More complex with more parameters and memory cells | Simpler architecture with fewer parameters     |\n",
    "| **Memory Control**     | More granular control over long-term dependencies | Combines memory control into the update gate   |\n",
    "| **Training Time**      | Slower to train due to more parameters             | Faster to train, more efficient                |\n",
    "| **Performance**        | Can outperform GRU on more complex tasks           | Often performs similarly, but more efficient   |\n",
    "| **Use Case**           | Best for complex tasks with long-term dependencies | Ideal for simpler tasks or when speed is crucial|"
   ]
  },
  {
   "cell_type": "markdown",
   "metadata": {},
   "source": [
    "![GRU Architecture](../gru_architecture.webp)"
   ]
  },
  {
   "cell_type": "markdown",
   "metadata": {},
   "source": [
    "**Update Gate (z):**\n",
    "   - Controls how much of the previous state needs to be passed along to the current state.\n",
    "   - Helps the model to remember long-term dependencies by deciding what information to keep from the past.\n",
    " \n",
    "**Reset Gate (r):**\n",
    "- Determines how much of the past information to forget.\n",
    "- Helps the model to reset its memory when the new input is not relevant to the past."
   ]
  }
 ],
 "metadata": {
  "language_info": {
   "name": "python"
  }
 },
 "nbformat": 4,
 "nbformat_minor": 2
}
